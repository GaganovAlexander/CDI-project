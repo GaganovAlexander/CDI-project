{
 "cells": [
  {
   "cell_type": "code",
   "execution_count": 1,
   "metadata": {},
   "outputs": [
    {
     "data": {
      "text/plain": [
       "True"
      ]
     },
     "execution_count": 1,
     "metadata": {},
     "output_type": "execute_result"
    }
   ],
   "source": [
    "from os import environ\n",
    "import json\n",
    "\n",
    "from dotenv import find_dotenv, load_dotenv\n",
    "from elasticsearch import Elasticsearch\n",
    "import spacy\n",
    "from spellchecker import SpellChecker\n",
    "from tqdm import tqdm\n",
    "\n",
    "\n",
    "load_dotenv(find_dotenv())"
   ]
  },
  {
   "cell_type": "code",
   "execution_count": 176,
   "metadata": {},
   "outputs": [
    {
     "name": "stdout",
     "output_type": "stream",
     "text": [
      "Подключение установлено.\n"
     ]
    }
   ],
   "source": [
    "es = Elasticsearch(\n",
    "    environ.get('ELASTIC_URL'),\n",
    "    basic_auth=(environ.get('ELASTIC_USER'), environ.get('ELASTIC_PASSWORD')),\n",
    "    verify_certs=True\n",
    ")\n",
    "\n",
    "if es.ping():\n",
    "    print(\"Подключение установлено.\")\n",
    "else:\n",
    "    print(\"Не удалось подключиться к Elasticsearch.\")"
   ]
  },
  {
   "cell_type": "code",
   "execution_count": 177,
   "metadata": {},
   "outputs": [
    {
     "name": "stdout",
     "output_type": "stream",
     "text": [
      "Индекс 'documents' создан\n"
     ]
    }
   ],
   "source": [
    "index_name = \"documents\"\n",
    "\n",
    "mappings = {\n",
    "    \"mappings\": {\n",
    "        \"properties\": {\n",
    "            \"document_name\": {\n",
    "                \"type\": \"text\"\n",
    "            },\n",
    "            \"page_number\": {\n",
    "                \"type\": \"integer\"\n",
    "            },\n",
    "            \"paragraph_number\": {\n",
    "                \"type\": \"integer\"\n",
    "            },\n",
    "            \"text\": {\n",
    "                \"type\": \"text\"\n",
    "            },\n",
    "            \"lemmatized_text\": {\n",
    "                \"type\": \"text\"\n",
    "            }\n",
    "        }\n",
    "    }\n",
    "}\n",
    "\n",
    "if not es.indices.exists(index=index_name):\n",
    "    es.indices.create(index=index_name, body=mappings)\n",
    "    print(f\"Индекс '{index_name}' создан\")\n",
    "else:\n",
    "    print(f\"Индекс '{index_name}' уже существует\")"
   ]
  },
  {
   "cell_type": "code",
   "execution_count": 178,
   "metadata": {},
   "outputs": [],
   "source": [
    "nlp = spacy.load(\"ru_core_news_sm\")\n",
    "spell = SpellChecker(language='ru')"
   ]
  },
  {
   "cell_type": "code",
   "execution_count": 179,
   "metadata": {},
   "outputs": [],
   "source": [
    "def correct_text(text):\n",
    "    words = text.split()\n",
    "    corrected_words = []\n",
    "\n",
    "    for word in words:\n",
    "        corrected_word = spell.correction(word)\n",
    "        if corrected_word is None:\n",
    "            corrected_word = word\n",
    "        corrected_words.append(corrected_word)\n",
    "    \n",
    "    return \" \".join(corrected_words)\n",
    "\n",
    "def lemmatize_text(text):\n",
    "    doc = nlp(text)\n",
    "    lemmatized_text = \" \".join([token.lemma_ for token in doc])\n",
    "    return lemmatized_text\n",
    "\n",
    "def preprocess_text(text): return lemmatize_text(correct_text(text))"
   ]
  },
  {
   "cell_type": "code",
   "execution_count": null,
   "metadata": {},
   "outputs": [],
   "source": [
    "pdf_path = 'jsons/elasticsearch_data.json'"
   ]
  },
  {
   "cell_type": "code",
   "execution_count": null,
   "metadata": {},
   "outputs": [],
   "source": [
    "with open(pdf_path, 'r', encoding='utf-8') as f:\n",
    "    documents = json.load(f)"
   ]
  },
  {
   "cell_type": "code",
   "execution_count": null,
   "metadata": {},
   "outputs": [
    {
     "name": "stderr",
     "output_type": "stream",
     "text": [
      "100%|██████████| 150/150 [04:33<00:00,  1.83s/it]\n"
     ]
    }
   ],
   "source": [
    "page_number = 0\n",
    "for doc in tqdm(documents[:150]): # всего 150 записей, потому что все записи даже одного документа обрабатывались бы час\n",
    "    doc[\"lemmatized_text\"] = preprocess_text(doc['text'])\n",
    "    es.index(index=index_name, document=doc)"
   ]
  },
  {
   "cell_type": "code",
   "execution_count": null,
   "metadata": {},
   "outputs": [],
   "source": [
    "query_text = \"Железнодорожный транспотр\" # ошибка допущена специально"
   ]
  },
  {
   "cell_type": "code",
   "execution_count": 183,
   "metadata": {},
   "outputs": [
    {
     "name": "stdout",
     "output_type": "stream",
     "text": [
      "Document Name: 7enYF2uL5kFZlOOpQhLl0nUT91RjCbeR.pdf\n",
      "Page Number: 11\n",
      "Paragraph Number: 2\n",
      "Text: \"магистральный каркас городского пассажирского транспорта\" -  совокупность видов транспорта общего пользования в рамках городской агломерации с выделенной дорожной или рельсовой инфраструктурой, в том числе метрополитен, трамвай, скоростной автобусный  и троллейбусный транспорт, а также связанная с ними сеть пригородного железнодорожного транспорта; \n",
      "------\n",
      "Document Name: 7enYF2uL5kFZlOOpQhLl0nUT91RjCbeR.pdf\n",
      "Page Number: 17\n",
      "Paragraph Number: 4\n",
      "Text: \"транспортные средства\" - воздушные суда, морские суда, суда  внутреннего плавания, смешанного (река-море) плавания,  железнодорожный подвижной состав, подвижной состав автомобильного и электрического городского пассажирского транспорта, а также перспективный подвижной состав (например, экранопланы и др.); \n",
      "------\n",
      "Document Name: 7enYF2uL5kFZlOOpQhLl0nUT91RjCbeR.pdf\n",
      "Page Number: 10\n",
      "Paragraph Number: 3\n",
      "Text: \"единое транспортное пространство Российской Федерации\" -  территории Российской Федерации, на которых обеспечено  функционирование единой сбалансированной системы транспортных коммуникаций, интегрированной системы товарно-транспортной  технологической инфраструктуры всех видов транспорта   и грузовладельцев, применение единых стандартов технологической совместимости различных видов транспорта, оптимизирующих  их взаимодействие, единых стандартов технической совместимости различных видов транспорта и транспортных средств, а также единой информационной среды технологического взаимодействия различных видов транспорта; \n",
      "------\n",
      "Document Name: 7enYF2uL5kFZlOOpQhLl0nUT91RjCbeR.pdf\n",
      "Page Number: 13\n",
      "Paragraph Number: 7\n",
      "Text: \"провозная способность линии транспорта\" - характеристика,  показывающая способность какого-либо вида транспорта перевезти определенное количество пассажиров или грузов в единицу времени  на определенном участке или линии; \n",
      "------\n",
      "Document Name: 7enYF2uL5kFZlOOpQhLl0nUT91RjCbeR.pdf\n",
      "Page Number: 15\n",
      "Paragraph Number: 3\n",
      "Text: \"транспортная доступность\" - мера способности территории быть  достигнутой при помощи транспорта, измеряемая временем, в течение которого данная территория может быть достигнута из определенной точки или другой территории при помощи различных видов транспорта  по транспортной сети; \n",
      "------\n",
      "Document Name: 7enYF2uL5kFZlOOpQhLl0nUT91RjCbeR.pdf\n",
      "Page Number: 7\n",
      "Paragraph Number: 13\n",
      "Text: повышения фондоотдачи инфраструктуры транспорта; снижения энерго- и углеродоемкости;  повышения инвестиционной привлекательности транспортной  отрасли;  \n",
      "------\n",
      "Document Name: 7enYF2uL5kFZlOOpQhLl0nUT91RjCbeR.pdf\n",
      "Page Number: 13\n",
      "Paragraph Number: 4\n",
      "Text: \"пассажирооборот\" - экономический показатель работы транспорта,  равный произведению числа перевезенных пассажиров на расстояние перевозки за отчетный период;  \n",
      "------\n",
      "Document Name: 7enYF2uL5kFZlOOpQhLl0nUT91RjCbeR.pdf\n",
      "Page Number: 9\n",
      "Paragraph Number: 9\n",
      "Text: \"грузооборот\" - экономический показатель работы транспорта,  равный произведению веса перевозимого груза на расстояние перевозки (тонно-километры) за отчетный период; \n",
      "------\n",
      "Document Name: 7enYF2uL5kFZlOOpQhLl0nUT91RjCbeR.pdf\n",
      "Page Number: 12\n",
      "Paragraph Number: 2\n",
      "Text: \"мультимодальный транспортный маршрут\" - комплексная система  перемещения товаров и пассажиров различными видами транспорта на базе элементов транспортной инфраструктуры Единой опорной сети;  \n",
      "------\n",
      "Document Name: 7enYF2uL5kFZlOOpQhLl0nUT91RjCbeR.pdf\n",
      "Page Number: 13\n",
      "Paragraph Number: 10\n",
      "Text: \"региональная воздушная перевозка\" - перевозка пассажиров  воздушным транспортом, при которой пункт отправления и пункт назначения расположены в разных субъектах Российской Федерации; \n",
      "------\n"
     ]
    }
   ],
   "source": [
    "query = {\n",
    "    \"query\": {\n",
    "        \"match\": {\n",
    "            \"lemmatized_text\": {\n",
    "                \"query\": preprocess_text(query_text),\n",
    "                \"minimum_should_match\": \"80%\"\n",
    "            } \n",
    "        }\n",
    "    }\n",
    "}\n",
    "\n",
    "response = es.search(index=index_name, body=query)\n",
    "\n",
    "for hit in response[\"hits\"][\"hits\"]:\n",
    "    print(f\"Document Name: {hit['_source']['document_name']}\")\n",
    "    print(f\"Page Number: {hit['_source']['page_number']}\")\n",
    "    print(f\"Paragraph Number: {hit['_source']['paragraph_number']}\")\n",
    "    print(f\"Text: {hit['_source']['text']}\")\n",
    "    print(\"------\")\n"
   ]
  },
  {
   "cell_type": "markdown",
   "metadata": {},
   "source": [
    "Сохраняю нижний блок для быстрого пересоздания индекса"
   ]
  },
  {
   "cell_type": "code",
   "execution_count": null,
   "metadata": {},
   "outputs": [],
   "source": [
    "# response = es.indices.delete(index=index_name, ignore=[400, 404])\n",
    "# print(response)"
   ]
  },
  {
   "cell_type": "code",
   "execution_count": null,
   "metadata": {},
   "outputs": [],
   "source": []
  }
 ],
 "metadata": {
  "kernelspec": {
   "display_name": "venv",
   "language": "python",
   "name": "python3"
  },
  "language_info": {
   "codemirror_mode": {
    "name": "ipython",
    "version": 3
   },
   "file_extension": ".py",
   "mimetype": "text/x-python",
   "name": "python",
   "nbconvert_exporter": "python",
   "pygments_lexer": "ipython3",
   "version": "3.12.4"
  }
 },
 "nbformat": 4,
 "nbformat_minor": 2
}
