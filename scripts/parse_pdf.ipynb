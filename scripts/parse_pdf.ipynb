{
 "cells": [
  {
   "cell_type": "code",
   "execution_count": 1,
   "metadata": {},
   "outputs": [],
   "source": [
    "import fitz\n",
    "import json"
   ]
  },
  {
   "cell_type": "code",
   "execution_count": null,
   "metadata": {},
   "outputs": [],
   "source": [
    "file_path = '../pdfs/7enYF2uL5kFZlOOpQhLl0nUT91RjCbeR.pdf'"
   ]
  },
  {
   "cell_type": "code",
   "execution_count": null,
   "metadata": {},
   "outputs": [],
   "source": [
    "def parse_pdf_to_paragraphs(file_path):\n",
    "    with fitz.open(file_path) as pdf_document:\n",
    "        result = []\n",
    "        document_name = file_path.split('/')[-1]\n",
    "\n",
    "        for page_number in range(pdf_document.page_count):\n",
    "            page = pdf_document.load_page(page_number)\n",
    "            page_data = page.get_text(\"dict\")\n",
    "\n",
    "            current_paragraph = []\n",
    "            previous_indent = None\n",
    "            paragraph_number = 1\n",
    "\n",
    "            for block in page_data['blocks']:\n",
    "                if 'lines' not in block:\n",
    "                    continue\n",
    "\n",
    "                current_indent = block['bbox'][0]\n",
    "                text = ''\n",
    "                for line in block['lines']:\n",
    "                    text += line['spans'][0]['text'].lstrip()\n",
    "\n",
    "                if previous_indent is None:\n",
    "                    previous_indent = current_indent\n",
    "\n",
    "                if current_indent > previous_indent and current_paragraph:\n",
    "                    result.append({\n",
    "                        \"document_name\": document_name,\n",
    "                        \"page_number\": page_number + 1,\n",
    "                        \"paragraph_number\": paragraph_number,\n",
    "                        \"text\": \" \".join(current_paragraph)\n",
    "                    })\n",
    "                    paragraph_number += 1\n",
    "                    current_paragraph = []\n",
    "\n",
    "                if text:\n",
    "                    current_paragraph.append(text)\n",
    "\n",
    "                previous_indent = current_indent\n",
    "\n",
    "            if current_paragraph:\n",
    "                result.append({\n",
    "                    \"document_name\": document_name,\n",
    "                    \"page_number\": page_number + 1,\n",
    "                    \"paragraph_number\": paragraph_number,\n",
    "                    \"text\": \" \".join(current_paragraph)\n",
    "                })\n",
    "\n",
    "    with open('../jsons/elasticsearch_data.json', 'w', encoding='utf-8') as f:\n",
    "        json.dump(result, f, ensure_ascii=False, indent=4)\n"
   ]
  },
  {
   "cell_type": "code",
   "execution_count": 7,
   "metadata": {},
   "outputs": [],
   "source": [
    "parse_pdf_to_paragraphs(file_path)"
   ]
  }
 ],
 "metadata": {
  "kernelspec": {
   "display_name": "base",
   "language": "python",
   "name": "python3"
  },
  "language_info": {
   "codemirror_mode": {
    "name": "ipython",
    "version": 3
   },
   "file_extension": ".py",
   "mimetype": "text/x-python",
   "name": "python",
   "nbconvert_exporter": "python",
   "pygments_lexer": "ipython3",
   "version": "3.12.4"
  }
 },
 "nbformat": 4,
 "nbformat_minor": 2
}
